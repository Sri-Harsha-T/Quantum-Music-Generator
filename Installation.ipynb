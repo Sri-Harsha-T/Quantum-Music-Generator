{
 "cells": [
  {
   "cell_type": "code",
   "execution_count": 2,
   "metadata": {},
   "outputs": [],
   "source": [
    "import os\n",
    "import sys"
   ]
  },
  {
   "cell_type": "code",
   "execution_count": 5,
   "metadata": {},
   "outputs": [
    {
     "name": "stdout",
     "output_type": "stream",
     "text": [
      "Collecting music21\n",
      "  Using cached music21-8.1.0-py3-none-any.whl (22.8 MB)\n",
      "Requirement already satisfied: numpy in c:\\users\\sriha\\appdata\\local\\programs\\python\\python39\\lib\\site-packages (from music21) (1.21.0)\n",
      "Requirement already satisfied: requests in c:\\users\\sriha\\appdata\\local\\programs\\python\\python39\\lib\\site-packages (from music21) (2.28.1)\n",
      "Requirement already satisfied: chardet in c:\\users\\sriha\\appdata\\local\\programs\\python\\python39\\lib\\site-packages (from music21) (3.0.4)\n",
      "Collecting webcolors>=1.5\n",
      "  Using cached webcolors-1.12-py3-none-any.whl (9.9 kB)\n",
      "Requirement already satisfied: matplotlib in c:\\users\\sriha\\appdata\\local\\programs\\python\\python39\\lib\\site-packages (from music21) (3.4.2)\n",
      "Requirement already satisfied: joblib in c:\\users\\sriha\\appdata\\local\\programs\\python\\python39\\lib\\site-packages (from music21) (1.1.0)\n",
      "Collecting jsonpickle\n",
      "  Using cached jsonpickle-2.2.0-py2.py3-none-any.whl (39 kB)\n",
      "Requirement already satisfied: more-itertools in c:\\users\\sriha\\appdata\\local\\programs\\python\\python39\\lib\\site-packages (from music21) (8.13.0)\n",
      "Requirement already satisfied: kiwisolver>=1.0.1 in c:\\users\\sriha\\appdata\\local\\programs\\python\\python39\\lib\\site-packages (from matplotlib->music21) (1.3.1)\n",
      "Requirement already satisfied: pyparsing>=2.2.1 in c:\\users\\sriha\\appdata\\local\\programs\\python\\python39\\lib\\site-packages (from matplotlib->music21) (2.4.7)\n",
      "Requirement already satisfied: python-dateutil>=2.7 in c:\\users\\sriha\\appdata\\local\\programs\\python\\python39\\lib\\site-packages (from matplotlib->music21) (2.8.1)\n",
      "Requirement already satisfied: pillow>=6.2.0 in c:\\users\\sriha\\appdata\\local\\programs\\python\\python39\\lib\\site-packages (from matplotlib->music21) (9.3.0)\n",
      "Requirement already satisfied: cycler>=0.10 in c:\\users\\sriha\\appdata\\local\\programs\\python\\python39\\lib\\site-packages (from matplotlib->music21) (0.10.0)\n",
      "Requirement already satisfied: charset-normalizer<3,>=2 in c:\\users\\sriha\\appdata\\local\\programs\\python\\python39\\lib\\site-packages (from requests->music21) (2.1.0)\n",
      "Requirement already satisfied: idna<4,>=2.5 in c:\\users\\sriha\\appdata\\local\\programs\\python\\python39\\lib\\site-packages (from requests->music21) (2.10)\n",
      "Requirement already satisfied: urllib3<1.27,>=1.21.1 in c:\\users\\sriha\\appdata\\local\\programs\\python\\python39\\lib\\site-packages (from requests->music21) (1.26.6)\n",
      "Requirement already satisfied: certifi>=2017.4.17 in c:\\users\\sriha\\appdata\\local\\programs\\python\\python39\\lib\\site-packages (from requests->music21) (2021.5.30)\n",
      "Requirement already satisfied: six in c:\\users\\sriha\\appdata\\local\\programs\\python\\python39\\lib\\site-packages (from cycler>=0.10->matplotlib->music21) (1.15.0)\n",
      "Installing collected packages: webcolors, jsonpickle, music21\n",
      "Successfully installed jsonpickle-2.2.0 music21-8.1.0 webcolors-1.12\n"
     ]
    },
    {
     "name": "stderr",
     "output_type": "stream",
     "text": [
      "\n",
      "[notice] A new release of pip available: 22.2.2 -> 22.3\n",
      "[notice] To update, run: c:\\users\\sriha\\appdata\\local\\programs\\python\\python39\\python.exe -m pip install --upgrade pip\n"
     ]
    }
   ],
   "source": [
    "# pip install music21 package\n",
    "!{sys.executable} -m pip install music21"
   ]
  },
  {
   "cell_type": "code",
   "execution_count": 6,
   "metadata": {},
   "outputs": [],
   "source": [
    "import music21"
   ]
  },
  {
   "cell_type": "code",
   "execution_count": 5,
   "metadata": {},
   "outputs": [
    {
     "name": "stdout",
     "output_type": "stream",
     "text": [
      "Looking in indexes: https://pypi.org/simple, https://download.pytorch.org/whl/cu116\n",
      "Collecting torch\n",
      "  Downloading https://download.pytorch.org/whl/cu116/torch-1.13.0%2Bcu116-cp39-cp39-win_amd64.whl (2436.5 MB)\n",
      "Collecting torchvision\n",
      "  Downloading https://download.pytorch.org/whl/cu116/torchvision-0.14.0%2Bcu116-cp39-cp39-win_amd64.whl (4.8 MB)\n",
      "Collecting torchaudio\n",
      "  Downloading https://download.pytorch.org/whl/cu116/torchaudio-0.13.0%2Bcu116-cp39-cp39-win_amd64.whl (2.3 MB)\n",
      "Requirement already satisfied: typing-extensions in c:\\users\\sriha\\anaconda3\\lib\\site-packages (from torch) (4.1.1)\n",
      "Requirement already satisfied: requests in c:\\users\\sriha\\anaconda3\\lib\\site-packages (from torchvision) (2.27.1)\n",
      "Requirement already satisfied: numpy in c:\\users\\sriha\\anaconda3\\lib\\site-packages (from torchvision) (1.21.5)\n",
      "Requirement already satisfied: pillow!=8.3.*,>=5.3.0 in c:\\users\\sriha\\anaconda3\\lib\\site-packages (from torchvision) (9.0.1)\n",
      "Requirement already satisfied: urllib3<1.27,>=1.21.1 in c:\\users\\sriha\\anaconda3\\lib\\site-packages (from requests->torchvision) (1.26.9)\n",
      "Requirement already satisfied: charset-normalizer~=2.0.0 in c:\\users\\sriha\\anaconda3\\lib\\site-packages (from requests->torchvision) (2.0.4)\n",
      "Requirement already satisfied: certifi>=2017.4.17 in c:\\users\\sriha\\anaconda3\\lib\\site-packages (from requests->torchvision) (2021.10.8)\n",
      "Requirement already satisfied: idna<4,>=2.5 in c:\\users\\sriha\\anaconda3\\lib\\site-packages (from requests->torchvision) (3.3)\n",
      "Installing collected packages: torch, torchvision, torchaudio\n",
      "Successfully installed torch-1.13.0+cu116 torchaudio-0.13.0+cu116 torchvision-0.14.0+cu116\n"
     ]
    }
   ],
   "source": [
    "!{sys.executable} -m pip install torch torchvision torchaudio --extra-index-url https://download.pytorch.org/whl/cu116"
   ]
  },
  {
   "cell_type": "code",
   "execution_count": 3,
   "metadata": {},
   "outputs": [
    {
     "name": "stdout",
     "output_type": "stream",
     "text": [
      "Collecting git+https://github.com/PennyLaneAI/pennylane"
     ]
    },
    {
     "name": "stderr",
     "output_type": "stream",
     "text": [
      "  Running command git clone --filter=blob:none --quiet https://github.com/PennyLaneAI/pennylane 'C:\\Users\\sriha\\AppData\\Local\\Temp\\pip-req-build-87lc9qwn'\n",
      "\n",
      "[notice] A new release of pip available: 22.2.2 -> 22.3\n",
      "[notice] To update, run: c:\\users\\sriha\\appdata\\local\\programs\\python\\python39\\python.exe -m pip install --upgrade pip\n"
     ]
    },
    {
     "name": "stdout",
     "output_type": "stream",
     "text": [
      "\n",
      "  Cloning https://github.com/PennyLaneAI/pennylane to c:\\users\\sriha\\appdata\\local\\temp\\pip-req-build-87lc9qwn\n",
      "  Resolved https://github.com/PennyLaneAI/pennylane to commit 3675335837e64621165547a9e25a04dc0367a57b\n",
      "  Installing build dependencies: started\n",
      "  Installing build dependencies: finished with status 'done'\n",
      "  Getting requirements to build wheel: started\n",
      "  Getting requirements to build wheel: finished with status 'done'\n",
      "  Preparing metadata (pyproject.toml): started\n",
      "  Preparing metadata (pyproject.toml): finished with status 'done'\n",
      "Requirement already satisfied: requests in c:\\users\\sriha\\appdata\\local\\programs\\python\\python39\\lib\\site-packages (from PennyLane==0.27.0.dev0) (2.28.1)\n",
      "Requirement already satisfied: retworkx in c:\\users\\sriha\\appdata\\local\\programs\\python\\python39\\lib\\site-packages (from PennyLane==0.27.0.dev0) (0.11.0)\n",
      "Requirement already satisfied: autoray>=0.3.1 in c:\\users\\sriha\\appdata\\local\\programs\\python\\python39\\lib\\site-packages (from PennyLane==0.27.0.dev0) (0.3.2)\n",
      "Requirement already satisfied: cachetools in c:\\users\\sriha\\appdata\\local\\programs\\python\\python39\\lib\\site-packages (from PennyLane==0.27.0.dev0) (4.2.4)\n",
      "Requirement already satisfied: scipy in c:\\users\\sriha\\appdata\\local\\programs\\python\\python39\\lib\\site-packages (from PennyLane==0.27.0.dev0) (1.7.0)\n",
      "Collecting autograd\n",
      "  Using cached autograd-1.5-py3-none-any.whl (48 kB)\n",
      "Requirement already satisfied: appdirs in c:\\users\\sriha\\appdata\\local\\programs\\python\\python39\\lib\\site-packages (from PennyLane==0.27.0.dev0) (1.4.4)\n",
      "Requirement already satisfied: numpy in c:\\users\\sriha\\appdata\\local\\programs\\python\\python39\\lib\\site-packages (from PennyLane==0.27.0.dev0) (1.21.0)\n",
      "Requirement already satisfied: toml in c:\\users\\sriha\\appdata\\local\\programs\\python\\python39\\lib\\site-packages (from PennyLane==0.27.0.dev0) (0.10.2)\n",
      "Collecting semantic-version>=2.7\n",
      "  Using cached semantic_version-2.10.0-py2.py3-none-any.whl (15 kB)\n",
      "Collecting pennylane-lightning>=0.26\n",
      "  Using cached PennyLane_Lightning-0.26.1-cp39-cp39-win_amd64.whl (4.4 MB)\n",
      "Requirement already satisfied: networkx in c:\\users\\sriha\\appdata\\local\\programs\\python\\python39\\lib\\site-packages (from PennyLane==0.27.0.dev0) (2.8.5)\n",
      "Collecting ninja\n",
      "  Using cached ninja-1.10.2.4-py2.py3-none-win_amd64.whl (293 kB)\n",
      "Collecting future>=0.15.2\n",
      "  Using cached future-0.18.2.tar.gz (829 kB)\n",
      "  Preparing metadata (setup.py): started\n",
      "  Preparing metadata (setup.py): finished with status 'done'\n",
      "Requirement already satisfied: charset-normalizer<3,>=2 in c:\\users\\sriha\\appdata\\local\\programs\\python\\python39\\lib\\site-packages (from requests->PennyLane==0.27.0.dev0) (2.1.0)\n",
      "Requirement already satisfied: idna<4,>=2.5 in c:\\users\\sriha\\appdata\\local\\programs\\python\\python39\\lib\\site-packages (from requests->PennyLane==0.27.0.dev0) (2.10)\n",
      "Requirement already satisfied: certifi>=2017.4.17 in c:\\users\\sriha\\appdata\\local\\programs\\python\\python39\\lib\\site-packages (from requests->PennyLane==0.27.0.dev0) (2021.5.30)\n",
      "Requirement already satisfied: urllib3<1.27,>=1.21.1 in c:\\users\\sriha\\appdata\\local\\programs\\python\\python39\\lib\\site-packages (from requests->PennyLane==0.27.0.dev0) (1.26.6)\n",
      "Building wheels for collected packages: PennyLane, future\n",
      "  Building wheel for PennyLane (pyproject.toml): started\n",
      "  Building wheel for PennyLane (pyproject.toml): finished with status 'done'\n",
      "  Created wheel for PennyLane: filename=PennyLane-0.27.0.dev0-py3-none-any.whl size=1134096 sha256=2305c6fda6beba9b7d76668e71696c4f6c849349d3f3b6658f3ad7c5c87c1b68\n",
      "  Stored in directory: C:\\Users\\sriha\\AppData\\Local\\Temp\\pip-ephem-wheel-cache-sze3xmxh\\wheels\\ff\\98\\7f\\b2d5531cd099e9cf4a7f4098f7fe1c7eca2f285847a57dbdb4\n",
      "  Building wheel for future (setup.py): started\n",
      "  Building wheel for future (setup.py): finished with status 'done'\n",
      "  Created wheel for future: filename=future-0.18.2-py3-none-any.whl size=491058 sha256=c2daf62c04c2a9c745cd743959e3a3eda226fade4329e2a200eb8985723e05c1\n",
      "  Stored in directory: c:\\users\\sriha\\appdata\\local\\pip\\cache\\wheels\\2f\\a0\\d3\\4030d9f80e6b3be787f19fc911b8e7aa462986a40ab1e4bb94\n",
      "Successfully built PennyLane future\n",
      "Installing collected packages: ninja, semantic-version, future, autograd, pennylane-lightning, PennyLane\n",
      "Successfully installed PennyLane-0.27.0.dev0 autograd-1.5 future-0.18.2 ninja-1.10.2.4 pennylane-lightning-0.26.1 semantic-version-2.10.0\n"
     ]
    }
   ],
   "source": [
    "!{sys.executable} -m pip install git+https://github.com/PennyLaneAI/pennylane"
   ]
  },
  {
   "cell_type": "code",
   "execution_count": null,
   "metadata": {},
   "outputs": [],
   "source": []
  }
 ],
 "metadata": {
  "kernelspec": {
   "display_name": "Python 3",
   "language": "python",
   "name": "python3"
  },
  "language_info": {
   "codemirror_mode": {
    "name": "ipython",
    "version": 3
   },
   "file_extension": ".py",
   "mimetype": "text/x-python",
   "name": "python",
   "nbconvert_exporter": "python",
   "pygments_lexer": "ipython3",
   "version": "3.9.2"
  },
  "vscode": {
   "interpreter": {
    "hash": "369f2c481f4da34e4445cda3fffd2e751bd1c4d706f27375911949ba6bb62e1c"
   }
  }
 },
 "nbformat": 4,
 "nbformat_minor": 2
}
